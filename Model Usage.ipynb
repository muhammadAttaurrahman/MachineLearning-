{
 "cells": [
  {
   "cell_type": "code",
   "execution_count": 1,
   "id": "886691d9",
   "metadata": {},
   "outputs": [
    {
     "ename": "ModuleNotFoundError",
     "evalue": "No module named 'joblib'",
     "output_type": "error",
     "traceback": [
      "\u001b[1;31m---------------------------------------------------------------------------\u001b[0m",
      "\u001b[1;31mModuleNotFoundError\u001b[0m                       Traceback (most recent call last)",
      "Cell \u001b[1;32mIn [1], line 1\u001b[0m\n\u001b[1;32m----> 1\u001b[0m \u001b[39mfrom\u001b[39;00m \u001b[39mjoblib\u001b[39;00m \u001b[39mimport\u001b[39;00m dump, load\n\u001b[0;32m      2\u001b[0m \u001b[39mimport\u001b[39;00m \u001b[39mnumpy\u001b[39;00m \u001b[39mas\u001b[39;00m \u001b[39mnp\u001b[39;00m\n\u001b[0;32m      3\u001b[0m model \u001b[39m=\u001b[39m load(\u001b[39m\"\u001b[39m\u001b[39mDragon.joblib\u001b[39m\u001b[39m\"\u001b[39m)\n",
      "\u001b[1;31mModuleNotFoundError\u001b[0m: No module named 'joblib'"
     ]
    }
   ],
   "source": [
    "from joblib import dump, load\n",
    "import numpy as np\n",
    "model = load(\"Dragon.joblib\")"
   ]
  },
  {
   "cell_type": "code",
   "execution_count": null,
   "id": "56c530af",
   "metadata": {},
   "outputs": [],
   "source": [
    "features= np.array([[-0.44214569,  3.18549186, -1.12157806, -0.27288841, -1.42038605,\n",
    "       -0.55563685, -1.74081446,  2.56373713, -0.9938038 , -0.57365513,\n",
    "       -0.98653542,  0.43847588, -0.49179946]])"
   ]
  },
  {
   "cell_type": "code",
   "execution_count": 9,
   "id": "3e31300f",
   "metadata": {},
   "outputs": [
    {
     "data": {
      "text/plain": [
       "array([20.666])"
      ]
     },
     "execution_count": 9,
     "metadata": {},
     "output_type": "execute_result"
    }
   ],
   "source": [
    "model.predict(features)"
   ]
  },
  {
   "cell_type": "code",
   "execution_count": null,
   "id": "d53388d1",
   "metadata": {},
   "outputs": [],
   "source": []
  }
 ],
 "metadata": {
  "kernelspec": {
   "display_name": "Python 3.10.7 ('environment': venv)",
   "language": "python",
   "name": "python3"
  },
  "language_info": {
   "codemirror_mode": {
    "name": "ipython",
    "version": 3
   },
   "file_extension": ".py",
   "mimetype": "text/x-python",
   "name": "python",
   "nbconvert_exporter": "python",
   "pygments_lexer": "ipython3",
   "version": "3.10.7"
  },
  "vscode": {
   "interpreter": {
    "hash": "db9ccd9705adcf30ffb492caf920562b99a667ca56093ce5d48cedbc9ce03977"
   }
  }
 },
 "nbformat": 4,
 "nbformat_minor": 5
}
